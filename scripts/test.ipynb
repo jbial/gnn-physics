{
 "cells": [
  {
   "cell_type": "code",
   "execution_count": 12,
   "metadata": {},
   "outputs": [],
   "source": [
    "import os\n",
    "import json\n",
    "import numpy as np"
   ]
  },
  {
   "cell_type": "code",
   "execution_count": 17,
   "metadata": {},
   "outputs": [],
   "source": [
    "def load_data(data_path, split):\n",
    "    # load dataset from the disk\n",
    "    with open(os.path.join(data_path, \"metadata.json\")) as f:\n",
    "        metadata = json.load(f)\n",
    "    with open(os.path.join(data_path, f\"{split}_offset.json\")) as f:\n",
    "        offset = json.load(f)\n",
    "    offset = {int(k): v for k, v in offset.items()}\n",
    "\n",
    "    particle_type = np.memmap(os.path.join(data_path, f\"{split}_particle_type.dat\"), dtype=np.int64, mode=\"r\")\n",
    "    position = np.memmap(os.path.join(data_path, f\"{split}_position.dat\"), dtype=np.float32, mode=\"r\")\n",
    "\n",
    "    return metadata, offset, particle_type, position"
   ]
  },
  {
   "cell_type": "code",
   "execution_count": 18,
   "metadata": {},
   "outputs": [],
   "source": [
    "metadata, offset, particle_type, position = load_data(\"../datasets/WaterDropSmall/\", \"test\")"
   ]
  },
  {
   "cell_type": "code",
   "execution_count": 22,
   "metadata": {},
   "outputs": [
    {
     "data": {
      "text/plain": [
       "{'bounds': [[0.1, 0.9], [0.1, 0.9]],\n",
       " 'sequence_length': 1000,\n",
       " 'default_connectivity_radius': 0.015,\n",
       " 'dim': 2,\n",
       " 'dt': 0.0025,\n",
       " 'vel_mean': [-3.964619574176163e-05, -0.00026272129664401046],\n",
       " 'vel_std': [0.0013722809722366911, 0.0013119977252142715],\n",
       " 'acc_mean': [2.602686518497945e-08, 1.0721623948191945e-07],\n",
       " 'acc_std': [6.742962470925277e-05, 8.700719180424815e-05]}"
      ]
     },
     "execution_count": 22,
     "metadata": {},
     "output_type": "execute_result"
    }
   ],
   "source": [
    "metadata"
   ]
  },
  {
   "cell_type": "code",
   "execution_count": 21,
   "metadata": {},
   "outputs": [
    {
     "data": {
      "text/plain": [
       "{0: {'particle_type': {'offset': 0, 'shape': [295]},\n",
       "  'position': {'offset': 0, 'shape': [1001, 295, 2]}},\n",
       " 1: {'particle_type': {'offset': 295, 'shape': [803]},\n",
       "  'position': {'offset': 590590, 'shape': [1001, 803, 2]}},\n",
       " 2: {'particle_type': {'offset': 1098, 'shape': [410]},\n",
       "  'position': {'offset': 2198196, 'shape': [1001, 410, 2]}},\n",
       " 3: {'particle_type': {'offset': 1508, 'shape': [997]},\n",
       "  'position': {'offset': 3019016, 'shape': [1001, 997, 2]}},\n",
       " 4: {'particle_type': {'offset': 2505, 'shape': [271]},\n",
       "  'position': {'offset': 5015010, 'shape': [1001, 271, 2]}}}"
      ]
     },
     "execution_count": 21,
     "metadata": {},
     "output_type": "execute_result"
    }
   ],
   "source": [
    "offset"
   ]
  },
  {
   "cell_type": "code",
   "execution_count": 20,
   "metadata": {},
   "outputs": [
    {
     "data": {
      "text/plain": [
       "((2776,), (5557552,))"
      ]
     },
     "execution_count": 20,
     "metadata": {},
     "output_type": "execute_result"
    }
   ],
   "source": [
    "particle_type.shape, position.shape"
   ]
  },
  {
   "cell_type": "code",
   "execution_count": null,
   "metadata": {},
   "outputs": [],
   "source": []
  }
 ],
 "metadata": {
  "kernelspec": {
   "display_name": "Python 3",
   "language": "python",
   "name": "python3"
  },
  "language_info": {
   "codemirror_mode": {
    "name": "ipython",
    "version": 3
   },
   "file_extension": ".py",
   "mimetype": "text/x-python",
   "name": "python",
   "nbconvert_exporter": "python",
   "pygments_lexer": "ipython3",
   "version": "3.8.8"
  },
  "orig_nbformat": 4
 },
 "nbformat": 4,
 "nbformat_minor": 2
}
